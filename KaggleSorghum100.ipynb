{
 "cells": [
  {
   "cell_type": "markdown",
   "metadata": {},
   "source": [
    "# Sorghum - 100 Cultivar Identification - FGVC 9"
   ]
  },
  {
   "cell_type": "markdown",
   "metadata": {},
   "source": [
    "The Sorghum - 100 Cultivar Identification - FGVC 9 is a competition hosted on Kaggle. The code shown in this notebook was submitted to the competition in which we achieved a Private Score of 0.73 and a Public Score of 0.74, which corresponds to 74% precision on the test dataset."
   ]
  },
  {
   "cell_type": "markdown",
   "metadata": {},
   "source": [
    "## 1. Importing and Installing Dependencies"
   ]
  },
  {
   "cell_type": "code",
   "execution_count": null,
   "metadata": {
    "execution": {
     "iopub.execute_input": "2022-05-29T23:47:29.631694Z",
     "iopub.status.busy": "2022-05-29T23:47:29.631353Z",
     "iopub.status.idle": "2022-05-29T23:47:40.764315Z",
     "shell.execute_reply": "2022-05-29T23:47:40.7634Z",
     "shell.execute_reply.started": "2022-05-29T23:47:29.631595Z"
    }
   },
   "outputs": [],
   "source": [
    "!pip install cutmix-keras"
   ]
  },
  {
   "cell_type": "code",
   "execution_count": null,
   "metadata": {
    "execution": {
     "iopub.execute_input": "2022-05-29T23:53:59.124119Z",
     "iopub.status.busy": "2022-05-29T23:53:59.123543Z",
     "iopub.status.idle": "2022-05-29T23:54:05.044941Z",
     "shell.execute_reply": "2022-05-29T23:54:05.044131Z",
     "shell.execute_reply.started": "2022-05-29T23:53:59.12408Z"
    }
   },
   "outputs": [],
   "source": [
    "import tensorflow as tf\n",
    "import tensorflow_addons as tfa\n",
    "import os\n",
    "import numpy as np\n",
    "from keras.preprocessing.image import ImageDataGenerator\n",
    "import pandas as pd\n",
    "from cutmix_keras import CutMixImageDataGenerator\n",
    "from tensorflow.keras.callbacks import CSVLogger"
   ]
  },
  {
   "cell_type": "markdown",
   "metadata": {},
   "source": [
    "## 2. Setting the Hyperparameters"
   ]
  },
  {
   "cell_type": "code",
   "execution_count": null,
   "metadata": {
    "execution": {
     "iopub.execute_input": "2022-05-29T23:54:11.117433Z",
     "iopub.status.busy": "2022-05-29T23:54:11.116828Z",
     "iopub.status.idle": "2022-05-29T23:54:11.123568Z",
     "shell.execute_reply": "2022-05-29T23:54:11.12264Z",
     "shell.execute_reply.started": "2022-05-29T23:54:11.117392Z"
    }
   },
   "outputs": [],
   "source": [
    "# HYPERPARAMETERS\n",
    "IMAGE_SIZE = (600,600,3)\n",
    "BATCH_SIZE = 15\n",
    "EPOCHS = 10\n",
    "\n",
    "#DECAY\n",
    "USE_DECAY = False\n",
    "LEARNING_RATE = 0.0001\n",
    "DECAY_RATE = 0.9\n",
    "\n",
    "#CYCLICAL\n",
    "USE_CYCLICAL = True\n",
    "INITIAL_LR = 8e-5\n",
    "MAX_LR = 4e-4\n",
    "\n",
    "#EARLY STOPPING\n",
    "ES_ACC = 0.9\n",
    "\n",
    "#FINE_TUNNING\n",
    "FINE_TUNE = False\n",
    "FINE_TUNNING_LAYERS = 0"
   ]
  },
  {
   "cell_type": "markdown",
   "metadata": {},
   "source": [
    "## 3. Importing the Dataset"
   ]
  },
  {
   "cell_type": "code",
   "execution_count": null,
   "metadata": {
    "execution": {
     "iopub.execute_input": "2022-05-29T23:54:12.828069Z",
     "iopub.status.busy": "2022-05-29T23:54:12.827733Z",
     "iopub.status.idle": "2022-05-29T23:55:10.077657Z",
     "shell.execute_reply": "2022-05-29T23:55:10.076877Z",
     "shell.execute_reply.started": "2022-05-29T23:54:12.828027Z"
    }
   },
   "outputs": [],
   "source": [
    "dtf = pd.read_csv(\"../input/small-jpegs-fgvc/train_cultivar_mapping.csv\")\n",
    "#dtf.dropna(inplace=True)\n",
    "#dtf['cultivar']=dtf['cultivar'].astype(str)\n",
    "\n",
    "train_datagen = ImageDataGenerator(shear_range = 0.2,\n",
    "                                   zoom_range = 0.2,\n",
    "                                   horizontal_flip = True,\n",
    "                                   fill_mode = 'reflect',\n",
    "                                   rotation_range = 25,\n",
    "                                   brightness_range = (0.8,1.2),\n",
    "                                   width_shift_range=0.1,\n",
    "                                   height_shift_range=0.1,\n",
    "                                   #validation_split=0.2\n",
    "                                )\n",
    "\n",
    "training_set1 = train_datagen.flow_from_dataframe(dataframe = dtf,\n",
    "                                                 directory = \"../input/small-jpegs-fgvc/train\",\n",
    "                                                 x_col=\"image\",\n",
    "                                                 y_col=\"cultivar\",\n",
    "                                                 target_size = IMAGE_SIZE[0:2],\n",
    "                                                 batch_size = BATCH_SIZE,\n",
    "                                                 #subset='training'\n",
    "                                                 )\n",
    "training_set2 = train_datagen.flow_from_dataframe(dataframe = dtf,\n",
    "                                                 directory = \"../input/small-jpegs-fgvc/train\",\n",
    "                                                 x_col=\"image\",\n",
    "                                                 y_col=\"cultivar\",\n",
    "                                                 target_size = IMAGE_SIZE[0:2],\n",
    "                                                 batch_size = BATCH_SIZE,\n",
    "                                                 #subset='training'\n",
    "                                                 )\n",
    "\n",
    "training_set = CutMixImageDataGenerator(\n",
    "        generator1=training_set1,\n",
    "        generator2=training_set2,\n",
    "        img_size=IMAGE_SIZE[0],\n",
    "        batch_size=BATCH_SIZE,\n",
    "    )\n",
    "\n",
    "total_steps=len(training_set1)"
   ]
  },
  {
   "cell_type": "markdown",
   "metadata": {},
   "source": [
    "## 4. Importing the Base Model - EfficientNetB2"
   ]
  },
  {
   "cell_type": "code",
   "execution_count": null,
   "metadata": {
    "execution": {
     "iopub.execute_input": "2022-05-29T23:55:22.896639Z",
     "iopub.status.busy": "2022-05-29T23:55:22.896348Z",
     "iopub.status.idle": "2022-05-29T23:55:27.889148Z",
     "shell.execute_reply": "2022-05-29T23:55:27.888297Z",
     "shell.execute_reply.started": "2022-05-29T23:55:22.896582Z"
    }
   },
   "outputs": [],
   "source": [
    "base_model= tf.keras.applications.efficientnet.EfficientNetB2(include_top=False, weights='imagenet', input_shape=IMAGE_SIZE)\n",
    "base_model.trainable = True\n",
    "print(\"Number of layers in the base model: \", len(base_model.layers))"
   ]
  },
  {
   "cell_type": "code",
   "execution_count": null,
   "metadata": {
    "execution": {
     "iopub.execute_input": "2022-05-29T23:55:48.850477Z",
     "iopub.status.busy": "2022-05-29T23:55:48.850194Z",
     "iopub.status.idle": "2022-05-29T23:55:48.855216Z",
     "shell.execute_reply": "2022-05-29T23:55:48.854286Z",
     "shell.execute_reply.started": "2022-05-29T23:55:48.850447Z"
    }
   },
   "outputs": [],
   "source": [
    "if FINE_TUNE:\n",
    "    print(\"FINE TUNNING\")\n",
    "    fine_tune_at = FINE_TUNNING_LAYERS\n",
    "\n",
    "    for layer in base_model.layers[:fine_tune_at]:\n",
    "        layer.trainable = False"
   ]
  },
  {
   "cell_type": "markdown",
   "metadata": {},
   "source": [
    "## 5. Ensembling the Model"
   ]
  },
  {
   "cell_type": "code",
   "execution_count": null,
   "metadata": {
    "execution": {
     "iopub.execute_input": "2022-05-29T23:55:49.188086Z",
     "iopub.status.busy": "2022-05-29T23:55:49.187639Z",
     "iopub.status.idle": "2022-05-29T23:55:50.190764Z",
     "shell.execute_reply": "2022-05-29T23:55:50.1899Z",
     "shell.execute_reply.started": "2022-05-29T23:55:49.18805Z"
    }
   },
   "outputs": [],
   "source": [
    "inputs = tf.keras.Input(shape=IMAGE_SIZE)\n",
    "x = base_model(inputs, training=False)\n",
    "x = tf.keras.layers.GlobalAveragePooling2D()(x)\n",
    "x = tf.keras.layers.Dropout(0.3)(x)\n",
    "outputs=tf.keras.layers.Dense(100, activation='softmax')(x)\n",
    "model=tf.keras.Model(inputs, outputs)"
   ]
  },
  {
   "cell_type": "markdown",
   "metadata": {},
   "source": [
    "Setting the cyclical or decay learning rate."
   ]
  },
  {
   "cell_type": "code",
   "execution_count": null,
   "metadata": {
    "execution": {
     "iopub.execute_input": "2022-05-29T23:55:50.706883Z",
     "iopub.status.busy": "2022-05-29T23:55:50.706148Z",
     "iopub.status.idle": "2022-05-29T23:55:50.711744Z",
     "shell.execute_reply": "2022-05-29T23:55:50.711054Z",
     "shell.execute_reply.started": "2022-05-29T23:55:50.706845Z"
    }
   },
   "outputs": [],
   "source": [
    "if USE_CYCLICAL:\n",
    "    LR = tfa.optimizers.CyclicalLearningRate(initial_learning_rate=8e-5,\n",
    "        maximal_learning_rate=4e-4,\n",
    "        scale_fn=lambda x: 1/(2.**(x-1)),\n",
    "        step_size=2 * total_steps)\n",
    "\n",
    "elif USE_DECAY:\n",
    "    LR = tf.keras.optimizers.schedules.ExponentialDecay(\n",
    "        LEARNING_RATE,\n",
    "        decay_steps=total_steps,\n",
    "        decay_rate=DECAY_RATE,\n",
    "        staircase=True)"
   ]
  },
  {
   "cell_type": "markdown",
   "metadata": {},
   "source": [
    "## 6. Setting the Callbacks"
   ]
  },
  {
   "cell_type": "code",
   "execution_count": null,
   "metadata": {
    "execution": {
     "iopub.execute_input": "2022-05-29T23:55:52.119062Z",
     "iopub.status.busy": "2022-05-29T23:55:52.118545Z",
     "iopub.status.idle": "2022-05-29T23:55:52.12527Z",
     "shell.execute_reply": "2022-05-29T23:55:52.124386Z",
     "shell.execute_reply.started": "2022-05-29T23:55:52.119025Z"
    }
   },
   "outputs": [],
   "source": [
    "model_checkpoint_callback = tf.keras.callbacks.ModelCheckpoint(\n",
    "    'my_model', \n",
    "    monitor='loss', \n",
    "    verbose=1, \n",
    "    save_best_only=True, \n",
    "    \n",
    "    save_weights_only=True)\n",
    "\n",
    "model_checkpoint_callback.set_model(model)\n",
    "\n",
    "class earlystopping(tf.keras.callbacks.Callback):\n",
    "    def on_epoch_end(self, epochs, logs={}):\n",
    "        if (logs.get('accuracy') > ES_ACC):\n",
    "            self.model.stop_training=True\n",
    "            \n",
    "earlystopping2=tf.keras.callbacks.EarlyStopping(monitor='accuracy', patience=3)\n",
    "\n",
    "csv_log = CSVLogger(\"results.csv\")"
   ]
  },
  {
   "cell_type": "markdown",
   "metadata": {},
   "source": [
    "## 7. Compiling and Training"
   ]
  },
  {
   "cell_type": "code",
   "execution_count": null,
   "metadata": {
    "execution": {
     "iopub.execute_input": "2022-05-29T23:55:53.558483Z",
     "iopub.status.busy": "2022-05-29T23:55:53.558188Z",
     "iopub.status.idle": "2022-05-29T23:55:53.590935Z",
     "shell.execute_reply": "2022-05-29T23:55:53.590224Z",
     "shell.execute_reply.started": "2022-05-29T23:55:53.558455Z"
    }
   },
   "outputs": [],
   "source": [
    "model.compile(loss='categorical_crossentropy',optimizer=tf.keras.optimizers.Adam(learning_rate=LR),metrics=['accuracy'])\n",
    "history = model.fit(training_set, epochs = EPOCHS, callbacks = [model_checkpoint_callback, earlystopping(), earlystopping2, csv_log],steps_per_epoch=total_steps,verbose=2)"
   ]
  },
  {
   "cell_type": "markdown",
   "metadata": {},
   "source": [
    "## 8. Submitting"
   ]
  },
  {
   "cell_type": "code",
   "execution_count": null,
   "metadata": {
    "execution": {
     "iopub.execute_input": "2022-05-30T01:55:00.649471Z",
     "iopub.status.busy": "2022-05-30T01:55:00.649201Z",
     "iopub.status.idle": "2022-05-30T01:55:34.94726Z",
     "shell.execute_reply": "2022-05-30T01:55:34.946297Z",
     "shell.execute_reply.started": "2022-05-30T01:55:00.649442Z"
    }
   },
   "outputs": [],
   "source": [
    "test_images = tf.keras.utils.image_dataset_from_directory(\"../input/small-jpegs-fgvc/test\",labels=None,label_mode=None,batch_size=BATCH_SIZE,image_size=IMAGE_SIZE[0:2], shuffle=False)"
   ]
  },
  {
   "cell_type": "code",
   "execution_count": null,
   "metadata": {
    "execution": {
     "iopub.execute_input": "2022-05-30T01:55:34.9494Z",
     "iopub.status.busy": "2022-05-30T01:55:34.949113Z",
     "iopub.status.idle": "2022-05-30T02:01:32.081244Z",
     "shell.execute_reply": "2022-05-30T02:01:32.076824Z",
     "shell.execute_reply.started": "2022-05-30T01:55:34.949363Z"
    }
   },
   "outputs": [],
   "source": [
    "predictions = model.predict(test_images)\n",
    "predictions = tf.argmax(predictions,axis=1).numpy()"
   ]
  },
  {
   "cell_type": "code",
   "execution_count": null,
   "metadata": {
    "execution": {
     "iopub.execute_input": "2022-05-30T02:01:32.085248Z",
     "iopub.status.busy": "2022-05-30T02:01:32.084547Z",
     "iopub.status.idle": "2022-05-30T02:01:32.103803Z",
     "shell.execute_reply": "2022-05-30T02:01:32.103039Z",
     "shell.execute_reply.started": "2022-05-30T02:01:32.085209Z"
    }
   },
   "outputs": [],
   "source": [
    "paths = [path.replace('../input/small-jpegs-fgvc/test/','').replace('jpeg','png') for path in test_images.file_paths]\n",
    "indices = {training_set.class_indices[key] : key for key in training_set.class_indices.keys()}"
   ]
  },
  {
   "cell_type": "code",
   "execution_count": null,
   "metadata": {
    "execution": {
     "iopub.execute_input": "2022-05-30T02:01:32.107918Z",
     "iopub.status.busy": "2022-05-30T02:01:32.107241Z",
     "iopub.status.idle": "2022-05-30T02:01:32.180107Z",
     "shell.execute_reply": "2022-05-30T02:01:32.179247Z",
     "shell.execute_reply.started": "2022-05-30T02:01:32.107876Z"
    }
   },
   "outputs": [],
   "source": [
    "sub = pd.DataFrame({'filename':paths,'cultivar':predictions})\n",
    "sub['cultivar'] = sub.cultivar.map(indices)\n",
    "sub.to_csv(\"submission.csv\",index=False)"
   ]
  },
  {
   "cell_type": "code",
   "execution_count": null,
   "metadata": {
    "execution": {
     "iopub.execute_input": "2022-05-30T02:01:32.182035Z",
     "iopub.status.busy": "2022-05-30T02:01:32.181561Z",
     "iopub.status.idle": "2022-05-30T02:01:32.237112Z",
     "shell.execute_reply": "2022-05-30T02:01:32.236399Z",
     "shell.execute_reply.started": "2022-05-30T02:01:32.181998Z"
    }
   },
   "outputs": [],
   "source": [
    "sub.to_csv(\"submission.csv\",index=False)"
   ]
  }
 ],
 "metadata": {
  "kernelspec": {
   "display_name": "Python 3 (ipykernel)",
   "language": "python",
   "name": "python3"
  },
  "language_info": {
   "codemirror_mode": {
    "name": "ipython",
    "version": 3
   },
   "file_extension": ".py",
   "mimetype": "text/x-python",
   "name": "python",
   "nbconvert_exporter": "python",
   "pygments_lexer": "ipython3",
   "version": "3.10.4"
  }
 },
 "nbformat": 4,
 "nbformat_minor": 4
}
